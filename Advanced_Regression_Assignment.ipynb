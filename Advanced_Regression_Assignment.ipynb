{
  "nbformat": 4,
  "nbformat_minor": 0,
  "metadata": {
    "colab": {
      "name": "Advanced-Regression-Assignment.ipynb",
      "provenance": [],
      "collapsed_sections": [],
      "authorship_tag": "ABX9TyMMqIZqzkEokvdW2FfH2lNb",
      "include_colab_link": true
    },
    "kernelspec": {
      "name": "python3",
      "display_name": "Python 3"
    },
    "language_info": {
      "name": "python"
    }
  },
  "cells": [
    {
      "cell_type": "markdown",
      "metadata": {
        "id": "view-in-github",
        "colab_type": "text"
      },
      "source": [
        "<a href=\"https://colab.research.google.com/github/taruj/Advanced-Regression-Assignment/blob/main/Advanced_Regression_Assignment.ipynb\" target=\"_parent\"><img src=\"https://colab.research.google.com/assets/colab-badge.svg\" alt=\"Open In Colab\"/></a>"
      ]
    },
    {
      "cell_type": "markdown",
      "source": [
        "### Problem Statement\n",
        "`Surprise Housing` a US Based Housing company plans to enter the Australian market. The company is looking at prospective properties to buy to enter the market.\n",
        "\n",
        "Before investing the company would like to `predict the value` of the prospective properties and then decide to invest (or not). \n",
        "\n",
        "The company uses data analytics to purchase houses at a price below their actual values and flip them at a higher price. The company would also like to know `which factors (features of the houses) that are significant` in predicting the price of a house, and what is the impact of those variables in deciding the price of the house.\n",
        "\n",
        "### Technical Goals\n",
        "Build a regression model using regularisation in order to predict the actual value of the prospective properties and decide whether to invest.\n",
        "Determine the optimal value of lambda for ridge and lasso regression.\n",
        "This model will then be used by the management to understand how exactly the prices vary with the variables\n",
        "\n",
        "### Approach for the Solution\n",
        "- Exploratory Data Analysis \n",
        "- Data cleaning\n",
        "- Data preparation \n",
        "  - Encoding, standardization and normalization\n",
        "- Model building\n",
        "- Conclusions\n",
        "\n",
        "### Python Notebook Notes\n",
        "1. Terms - Variable / Feature / Column is used an interchangeable manner. \n",
        "2. Conclusion - All conclusions are in <font color=\"blue\"> Blue Color </font>\n",
        "3. Cautions - All Cautions / Warnings are in <font color=\"red\"> Red Color </font>\n",
        "\n",
        "\n",
        "Source: \"The machine learning community calls them features (also attributes or inputs).  There is a subtle difference in meaning.  In predictive modeling, depending on the nature of the data, considerable work may be required to transform and winnow down data and text to a usable set of predictors.  This process is termed “feature engineering.”  The comparable term in statistics – “variable selection” – does not imply such a wide ranging process.\" https://www.statistics.com/02-03-2015-week-5-features-vs-variables/\n",
        "2. "
      ],
      "metadata": {
        "id": "wJNGgI1VfXkA"
      }
    },
    {
      "cell_type": "code",
      "source": [
        ""
      ],
      "metadata": {
        "id": "IW0Wdmvsfj-D"
      },
      "execution_count": null,
      "outputs": []
    }
  ]
}