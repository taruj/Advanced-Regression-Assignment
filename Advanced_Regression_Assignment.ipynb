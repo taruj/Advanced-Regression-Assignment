{
  "nbformat": 4,
  "nbformat_minor": 0,
  "metadata": {
    "colab": {
      "name": "Advanced-Regression-Assignment",
      "provenance": [],
      "collapsed_sections": [],
      "authorship_tag": "ABX9TyP6IsJu9F/M+3yT6ktc8jAS",
      "include_colab_link": true
    },
    "kernelspec": {
      "name": "python3",
      "display_name": "Python 3"
    },
    "language_info": {
      "name": "python"
    }
  },
  "cells": [
    {
      "cell_type": "markdown",
      "metadata": {
        "id": "view-in-github",
        "colab_type": "text"
      },
      "source": [
        "<a href=\"https://colab.research.google.com/github/taruj/Advanced-Regression-Assignment/blob/main/Advanced_Regression_Assignment.ipynb\" target=\"_parent\"><img src=\"https://colab.research.google.com/assets/colab-badge.svg\" alt=\"Open In Colab\"/></a>"
      ]
    },
    {
      "cell_type": "markdown",
      "source": [
        "### Problem Statement\n",
        "`Surprise Housing `a US Based Housing company plans to enter the Australian market. The company is looking at prospective properties to buy to enter the market.\n",
        "\n",
        "Before investing the company would like to `predict the value` of the prospective properties and then decide to invest (or not). \n",
        "\n",
        "The company uses data analytics to purchase houses at a price below their actual values and flip them at a higher price. The company would also like to know `which factors (features of the houses) that are significant` in predicting the price of a house, and what is the impact of those variables in deciding the price of the house.\n",
        "\n",
        "### Technical Goals\n",
        "Build a regression model using regularisation in order to predict the actual value of the prospective properties and decide whether to invest.\n",
        "Determine the optimal value of lambda for ridge and lasso regression.\n",
        "This model will then be used by the management to understand how exactly the prices vary with the variables\n",
        "\n",
        "### Approach for the Solution\n",
        "- Exploratory Data Analysis \n",
        "- Data cleaning\n",
        "- Data preparation \n",
        "  - Encoding, standardization and normalization\n",
        "- Model building\n",
        "- Conclusions"
      ],
      "metadata": {
        "id": "O82V_21bG0ak"
      }
    },
    {
      "cell_type": "markdown",
      "source": [
        "### Python Notebook Notes\n",
        "1. Terms - Variable / Feature / Column is used an interchangeable manner. \n",
        "2. Conclusion - All conclusions are in <font color=\"blue\"> Blue Color </font>\n",
        "3. Cautions - All Cautions / Warnings are in <font color=\"red\"> Red Color </font>\n",
        "\n",
        "\n",
        "\n",
        "\n",
        "\n",
        "\n",
        "\n",
        "Source: \"The machine learning community calls them features (also attributes or inputs).  There is a subtle difference in meaning.  In predictive modeling, depending on the nature of the data, considerable work may be required to transform and winnow down data and text to a usable set of predictors.  This process is termed “feature engineering.”  The comparable term in statistics – “variable selection” – does not imply such a wide ranging process.\" https://www.statistics.com/02-03-2015-week-5-features-vs-variables/\n",
        "2. "
      ],
      "metadata": {
        "id": "5MoTfBe3VvVF"
      }
    },
    {
      "cell_type": "code",
      "execution_count": 34,
      "metadata": {
        "colab": {
          "base_uri": "https://localhost:8080/"
        },
        "id": "n02ISdRbBWgP",
        "outputId": "27042fbb-91bf-48ad-eca7-87e043baa17d"
      },
      "outputs": [
        {
          "output_type": "stream",
          "name": "stdout",
          "text": [
            "Drive already mounted at /content/drive; to attempt to forcibly remount, call drive.mount(\"/content/drive\", force_remount=True).\n"
          ]
        }
      ],
      "source": [
        "# Importing the required libraries\n",
        "import numpy as np\n",
        "import pandas as pd\n",
        "\n",
        "# Vizulization\n",
        "import matplotlib.pyplot as plt\n",
        "%matplotlib inline\n",
        "\n",
        "import seaborn as sns\n",
        "\n",
        "# Suppress Warning\n",
        "import warnings\n",
        "warnings.filterwarnings(\"ignore\")\n",
        "\n",
        "from sklearn.preprocessing import MinMaxScaler\n",
        "from sklearn.model_selection import train_test_split\n",
        "from sklearn.preprocessing import PowerTransformer\n",
        "from sklearn.feature_selection import RFE\n",
        "from sklearn import linear_model\n",
        "from sklearn.linear_model import LinearRegression\n",
        "from sklearn.linear_model import Ridge\n",
        "from sklearn.linear_model import Lasso\n",
        "from sklearn.model_selection import GridSearchCV\n",
        "from sklearn.metrics import r2_score\n",
        "from sklearn.metrics import mean_squared_error\n",
        "from statsmodels.stats.outliers_influence import variance_inflation_factor\n",
        "\n",
        "\n",
        "## Loading the Dataset\n",
        "\n",
        "from google.colab import drive\n",
        "drive.mount('/content/drive')\n",
        "\n",
        "data =  pd.read_csv('/content/drive/MyDrive/Colab Notebooks/data/Adv-Reg-Assign.csv')\n"
      ]
    },
    {
      "cell_type": "code",
      "source": [
        "## Get basic information on the data set"
      ],
      "metadata": {
        "id": "vW8iiiE1UghT"
      },
      "execution_count": 35,
      "outputs": []
    },
    {
      "cell_type": "code",
      "source": [
        "## Size of data \n",
        "data.shape"
      ],
      "metadata": {
        "colab": {
          "base_uri": "https://localhost:8080/"
        },
        "id": "tRXUgyJ2Wk0P",
        "outputId": "a129d924-07d9-4f12-87b4-4c02718e4964"
      },
      "execution_count": 36,
      "outputs": [
        {
          "output_type": "execute_result",
          "data": {
            "text/plain": [
              "(1460, 81)"
            ]
          },
          "metadata": {},
          "execution_count": 36
        }
      ]
    },
    {
      "cell_type": "code",
      "source": [
        "data.info()"
      ],
      "metadata": {
        "colab": {
          "base_uri": "https://localhost:8080/"
        },
        "id": "fc38rkQmauDs",
        "outputId": "4f8281a9-a257-49eb-e425-f20726c7ed82"
      },
      "execution_count": 37,
      "outputs": [
        {
          "output_type": "stream",
          "name": "stdout",
          "text": [
            "<class 'pandas.core.frame.DataFrame'>\n",
            "RangeIndex: 1460 entries, 0 to 1459\n",
            "Data columns (total 81 columns):\n",
            " #   Column         Non-Null Count  Dtype  \n",
            "---  ------         --------------  -----  \n",
            " 0   Id             1460 non-null   int64  \n",
            " 1   MSSubClass     1460 non-null   int64  \n",
            " 2   MSZoning       1460 non-null   object \n",
            " 3   LotFrontage    1201 non-null   float64\n",
            " 4   LotArea        1460 non-null   int64  \n",
            " 5   Street         1460 non-null   object \n",
            " 6   Alley          91 non-null     object \n",
            " 7   LotShape       1460 non-null   object \n",
            " 8   LandContour    1460 non-null   object \n",
            " 9   Utilities      1460 non-null   object \n",
            " 10  LotConfig      1460 non-null   object \n",
            " 11  LandSlope      1460 non-null   object \n",
            " 12  Neighborhood   1460 non-null   object \n",
            " 13  Condition1     1460 non-null   object \n",
            " 14  Condition2     1460 non-null   object \n",
            " 15  BldgType       1460 non-null   object \n",
            " 16  HouseStyle     1460 non-null   object \n",
            " 17  OverallQual    1460 non-null   int64  \n",
            " 18  OverallCond    1460 non-null   int64  \n",
            " 19  YearBuilt      1460 non-null   int64  \n",
            " 20  YearRemodAdd   1460 non-null   int64  \n",
            " 21  RoofStyle      1460 non-null   object \n",
            " 22  RoofMatl       1460 non-null   object \n",
            " 23  Exterior1st    1460 non-null   object \n",
            " 24  Exterior2nd    1460 non-null   object \n",
            " 25  MasVnrType     1452 non-null   object \n",
            " 26  MasVnrArea     1452 non-null   float64\n",
            " 27  ExterQual      1460 non-null   object \n",
            " 28  ExterCond      1460 non-null   object \n",
            " 29  Foundation     1460 non-null   object \n",
            " 30  BsmtQual       1423 non-null   object \n",
            " 31  BsmtCond       1423 non-null   object \n",
            " 32  BsmtExposure   1422 non-null   object \n",
            " 33  BsmtFinType1   1423 non-null   object \n",
            " 34  BsmtFinSF1     1460 non-null   int64  \n",
            " 35  BsmtFinType2   1422 non-null   object \n",
            " 36  BsmtFinSF2     1460 non-null   int64  \n",
            " 37  BsmtUnfSF      1460 non-null   int64  \n",
            " 38  TotalBsmtSF    1460 non-null   int64  \n",
            " 39  Heating        1460 non-null   object \n",
            " 40  HeatingQC      1460 non-null   object \n",
            " 41  CentralAir     1460 non-null   object \n",
            " 42  Electrical     1459 non-null   object \n",
            " 43  1stFlrSF       1460 non-null   int64  \n",
            " 44  2ndFlrSF       1460 non-null   int64  \n",
            " 45  LowQualFinSF   1460 non-null   int64  \n",
            " 46  GrLivArea      1460 non-null   int64  \n",
            " 47  BsmtFullBath   1460 non-null   int64  \n",
            " 48  BsmtHalfBath   1460 non-null   int64  \n",
            " 49  FullBath       1460 non-null   int64  \n",
            " 50  HalfBath       1460 non-null   int64  \n",
            " 51  BedroomAbvGr   1460 non-null   int64  \n",
            " 52  KitchenAbvGr   1460 non-null   int64  \n",
            " 53  KitchenQual    1460 non-null   object \n",
            " 54  TotRmsAbvGrd   1460 non-null   int64  \n",
            " 55  Functional     1460 non-null   object \n",
            " 56  Fireplaces     1460 non-null   int64  \n",
            " 57  FireplaceQu    770 non-null    object \n",
            " 58  GarageType     1379 non-null   object \n",
            " 59  GarageYrBlt    1379 non-null   float64\n",
            " 60  GarageFinish   1379 non-null   object \n",
            " 61  GarageCars     1460 non-null   int64  \n",
            " 62  GarageArea     1460 non-null   int64  \n",
            " 63  GarageQual     1379 non-null   object \n",
            " 64  GarageCond     1379 non-null   object \n",
            " 65  PavedDrive     1460 non-null   object \n",
            " 66  WoodDeckSF     1460 non-null   int64  \n",
            " 67  OpenPorchSF    1460 non-null   int64  \n",
            " 68  EnclosedPorch  1460 non-null   int64  \n",
            " 69  3SsnPorch      1460 non-null   int64  \n",
            " 70  ScreenPorch    1460 non-null   int64  \n",
            " 71  PoolArea       1460 non-null   int64  \n",
            " 72  PoolQC         7 non-null      object \n",
            " 73  Fence          281 non-null    object \n",
            " 74  MiscFeature    54 non-null     object \n",
            " 75  MiscVal        1460 non-null   int64  \n",
            " 76  MoSold         1460 non-null   int64  \n",
            " 77  YrSold         1460 non-null   int64  \n",
            " 78  SaleType       1460 non-null   object \n",
            " 79  SaleCondition  1460 non-null   object \n",
            " 80  SalePrice      1460 non-null   int64  \n",
            "dtypes: float64(3), int64(35), object(43)\n",
            "memory usage: 924.0+ KB\n"
          ]
        }
      ]
    },
    {
      "cell_type": "code",
      "source": [
        "## Drop the ID Column as it doesn't add value to the pediction\n",
        "data.drop(\"Id\",axis=1,inplace=True)"
      ],
      "metadata": {
        "id": "5cyXmja0ez-d"
      },
      "execution_count": 38,
      "outputs": []
    },
    {
      "cell_type": "code",
      "source": [
        "# Identify Features with  missing data\n",
        "print(round(data.isnull().sum()/len(data.index)*100,2).sort_values(ascending=False)[round(data.isnull().sum()/len(data.index),2) > 0])\n",
        "\n"
      ],
      "metadata": {
        "colab": {
          "base_uri": "https://localhost:8080/"
        },
        "id": "tMx8QH2abL5C",
        "outputId": "f79d1d0c-02f5-43a5-ebed-3e994b9ca64e"
      },
      "execution_count": 39,
      "outputs": [
        {
          "output_type": "stream",
          "name": "stdout",
          "text": [
            "PoolQC          99.52\n",
            "MiscFeature     96.30\n",
            "Alley           93.77\n",
            "Fence           80.75\n",
            "FireplaceQu     47.26\n",
            "LotFrontage     17.74\n",
            "GarageYrBlt      5.55\n",
            "GarageCond       5.55\n",
            "GarageType       5.55\n",
            "GarageFinish     5.55\n",
            "GarageQual       5.55\n",
            "BsmtExposure     2.60\n",
            "BsmtFinType2     2.60\n",
            "BsmtCond         2.53\n",
            "BsmtQual         2.53\n",
            "BsmtFinType1     2.53\n",
            "MasVnrArea       0.55\n",
            "MasVnrType       0.55\n",
            "dtype: float64\n"
          ]
        }
      ]
    },
    {
      "cell_type": "markdown",
      "source": [
        "<font color = \"blue\"> Since more than 40% data is missing in Alley, PoolQC, Fence, FirePlaceQu, MiscFeature we will drop them </font>"
      ],
      "metadata": {
        "id": "2qsrikZcjsTX"
      }
    },
    {
      "cell_type": "code",
      "source": [
        "## Drop Features\n",
        "data.drop([\"Alley\", \"Fence\", \"FireplaceQu\", \"PoolQC\",\"MiscFeature\"],axis=1,inplace=True)\n",
        "## Check Size of data \n",
        "data.shape"
      ],
      "metadata": {
        "colab": {
          "base_uri": "https://localhost:8080/"
        },
        "id": "JNbzCnZejX82",
        "outputId": "5cb8dda6-d447-4f6b-91bc-5433ca723613"
      },
      "execution_count": 41,
      "outputs": [
        {
          "output_type": "execute_result",
          "data": {
            "text/plain": [
              "(1460, 75)"
            ]
          },
          "metadata": {},
          "execution_count": 41
        }
      ]
    },
    {
      "cell_type": "code",
      "source": [
        "# We will now check for numerical and categorical features\n",
        "categorical = []\n",
        "numerical = []\n",
        "for i in data.columns:\n",
        "    if data[i].dtypes != 'O':\n",
        "        numerical.append(i)\n",
        "    else:\n",
        "        categorical.append(i)\n",
        "print(len(numerical))\n",
        "print(len(categorical))"
      ],
      "metadata": {
        "colab": {
          "base_uri": "https://localhost:8080/"
        },
        "id": "P_3iI16Alcqx",
        "outputId": "8bc04bd9-e924-47fb-bb3f-112665c53826"
      },
      "execution_count": 44,
      "outputs": [
        {
          "output_type": "stream",
          "name": "stdout",
          "text": [
            "37\n",
            "38\n"
          ]
        }
      ]
    },
    {
      "cell_type": "markdown",
      "source": [
        "<font color=\"blue\"> There are `37 Numerical Features` and `38 Categorical Features` in the dataset </font>"
      ],
      "metadata": {
        "id": "Q-uh0IGRpIaY"
      }
    },
    {
      "cell_type": "code",
      "source": [
        "#  Evaluate median price changes vs with the year\n",
        "data['YrSold'] = data['YrSold'].astype('int')\n",
        "data.groupby('YrSold')['SalePrice'].median().plot()\n",
        "plt.xlabel('Sale Year')\n",
        "plt.ylabel('House Price - median')\n",
        "plt.title(\"House Price vs YearSold\")\n",
        "plt.show()"
      ],
      "metadata": {
        "colab": {
          "base_uri": "https://localhost:8080/",
          "height": 295
        },
        "id": "goqw_g9tlhVK",
        "outputId": "c100855c-fe1f-4305-b629-5183f6bdefab"
      },
      "execution_count": 46,
      "outputs": [
        {
          "output_type": "display_data",
          "data": {
            "text/plain": [
              "<Figure size 432x288 with 1 Axes>"
            ],
            "image/png": "[encoded data removed]"
          },
          "metadata": {
            "needs_background": "light"
          }
        }
      ]
    },
    {
      "cell_type": "markdown",
      "source": [
        "<font color = \"blue\"> Sharp decline in house prices can be observer following 2007 and 2008 housing bubble crash </font>\n",
        "<font color = \"green\">\n",
        "<b> Age - Current Year - Year) Year of Sale -  has an direct and significant affect to sale price </b> </font>"
      ],
      "metadata": {
        "id": "SdIgtQQwy27a"
      }
    },
    {
      "cell_type": "code",
      "source": [
        ""
      ],
      "metadata": {
        "id": "fQikQvcfyRvb"
      },
      "execution_count": null,
      "outputs": []
    }
  ]
}